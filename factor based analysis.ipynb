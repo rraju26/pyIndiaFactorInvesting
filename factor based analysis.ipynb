{
 "cells": [
  {
   "cell_type": "markdown",
   "id": "b349b003-70a9-4088-b237-ee45fdf89a61",
   "metadata": {},
   "source": [
    "# Factor-Based Analysis of Mutual Fund Data\n",
    "This notebook demonstrates the process of analyzing mutual fund data using linear regression analysis against the Fama-French 6 factors.\n"
   ]
  },
  {
   "cell_type": "code",
   "execution_count": null,
   "id": "a841d185",
   "metadata": {},
   "outputs": [],
   "source": [
    "# Install required libraries (this is only necessary \n",
    "# if running in an environment that does not automatically handle \n",
    "# requirements.txt)\n",
    "!pip install indiafactorlibrary\n"
   ]
  },
  {
   "cell_type": "code",
   "execution_count": 2,
   "id": "e956fabb-ee32-43a8-894f-9525d103a677",
   "metadata": {},
   "outputs": [],
   "source": [
    "# Import Libraries\n",
    "import pandas as pd\n",
    "import statsmodels.formula.api as smf\n",
    "from indiafactorlibrary import IndiaFactorLibrary\n"
   ]
  },
  {
   "cell_type": "markdown",
   "id": "568a34cb-cc54-475b-8235-3fefd8acd711",
   "metadata": {},
   "source": [
    "## Initialise IndiaFactorLibrary and Read Fama-French 6 Factors Dataset\n",
    "We will initialise the `IndiaFactorLibrary` and read the Fama-French 6 factors dataset, which will be used in our regression analysis. The FF6 data is from Invespar \"Data Library: Fama-French Factors, Momentum, and Low-Risk Factors for the Indian Market\" available at https://www.invespar.com/research\n"
   ]
  },
  {
   "cell_type": "code",
   "execution_count": 3,
   "id": "9801c99a-e0e0-46af-9c9a-0e34981ed709",
   "metadata": {},
   "outputs": [
    {
     "name": "stdout",
     "output_type": "stream",
     "text": [
      "                MF    SMB5     HML     RMW     CMA     WML      RF     MKT\n",
      "Dates                                                                     \n",
      "2004-10-31  1.2168 -0.6080 -2.0792  2.3774 -2.8868  2.7795  0.3877  1.6045\n",
      "2004-11-30  9.4784  3.3578  1.0583  4.5068 -1.6372  1.6852  0.4361  9.9145\n",
      "2004-12-31  8.9490  4.3343  4.3104  2.0992  2.3392 -3.7736  0.4866  9.4356\n",
      "2005-01-31 -1.9222  0.0250 -1.4563  1.9196 -1.0112  2.3761  0.4032 -1.5190\n",
      "2005-02-28  3.2679  3.0760  4.7830 -1.3918 -0.8232  2.8335  0.4195  3.6874\n",
      "...            ...     ...     ...     ...     ...     ...     ...     ...\n",
      "2024-01-31  3.7383  4.8908  6.0960 -4.5838  3.2928  7.1994  0.5782  4.3165\n",
      "2024-02-29  1.4083 -3.0371 -1.2132  0.1622  0.5138  1.1601  0.5838  1.9921\n",
      "2024-03-31 -0.9468 -7.2897  0.2156  0.0868 -1.7741  1.0147  0.4921 -0.4547\n",
      "2024-04-30  4.1428  7.2149  3.4824 -1.6815  0.8483  3.0944  0.5466  4.6894\n",
      "2024-05-31  0.5197 -4.8571 -1.4302  1.7060  0.5262  1.0092  0.5777  1.0974\n",
      "\n",
      "[236 rows x 8 columns]\n"
     ]
    }
   ],
   "source": [
    "# Initialize the IndiaFactorLibrary\n",
    "ifl = IndiaFactorLibrary()\n",
    "\n",
    "# Read the Fama-French 6 factors dataset\n",
    "ff6 = ifl.read('ff6')[0]\n",
    "print(ff6)\n"
   ]
  },
  {
   "cell_type": "markdown",
   "id": "de4a3988-9993-4e81-9ef7-5e280363a23b",
   "metadata": {},
   "source": [
    "## Factor Correlations "
   ]
  },
  {
   "cell_type": "code",
   "execution_count": 4,
   "id": "48fa8016-87d8-46c8-b230-082a7fbaf89a",
   "metadata": {},
   "outputs": [
    {
     "name": "stdout",
     "output_type": "stream",
     "text": [
      "        MF  SMB5   HML   RMW   CMA   WML\n",
      "MF    1.00  0.27  0.52 -0.45 -0.33 -0.35\n",
      "SMB5  0.27  1.00  0.39 -0.25 -0.05 -0.22\n",
      "HML   0.52  0.39  1.00 -0.70  0.15 -0.38\n",
      "RMW  -0.45 -0.25 -0.70  1.00 -0.03  0.43\n",
      "CMA  -0.33 -0.05  0.15 -0.03  1.00  0.20\n",
      "WML  -0.35 -0.22 -0.38  0.43  0.20  1.00\n"
     ]
    }
   ],
   "source": [
    "print((ff6[['MF', 'SMB5','HML','RMW','CMA','WML']]/100).corr().round(2))"
   ]
  },
  {
   "cell_type": "markdown",
   "id": "3d061f52-e146-42f1-804a-ad3a687a7821",
   "metadata": {},
   "source": [
    "## Fetch and Read the example file of Monthly Returns into a DataFrame\n",
    "Read the Fund monthly returns into a pandas DataFrame.\n"
   ]
  },
  {
   "cell_type": "code",
   "execution_count": 5,
   "id": "69a0b482-5570-4ad4-8380-8803945d6733",
   "metadata": {},
   "outputs": [
    {
     "name": "stdout",
     "output_type": "stream",
     "text": [
      "            sample_fund\n",
      "Dates                  \n",
      "2013-01-31       -0.745\n",
      "2013-02-28       -2.495\n",
      "2013-03-31        1.631\n",
      "2013-04-30        6.336\n",
      "2013-05-31        4.082\n",
      "2013-06-30       -3.347\n",
      "2013-07-31        0.066\n",
      "2013-08-31       -4.204\n",
      "2013-09-30        6.615\n",
      "2013-10-31        7.126\n"
     ]
    }
   ],
   "source": [
    "# URL of the CSV file on GitHub\n",
    "url = 'https://raw.githubusercontent.com/rraju26/pyIndiaFactorInvesting/main/data/fba_sample_data.csv'\n",
    "\n",
    "# Local file path\n",
    "file_path = 'data/fba_sample_data.csv'\n",
    "\n",
    "# Try to read the CSV file from the local directory, fallback to URL if it fails\n",
    "try:\n",
    "    fund_returns = pd.read_csv(file_path, index_col='Dates', parse_dates=['Dates'])\n",
    "except FileNotFoundError:\n",
    "    fund_returns = pd.read_csv(url, index_col='Dates', parse_dates=['Dates'])\n",
    "\n",
    "print(fund_returns.head(10))"
   ]
  },
  {
   "cell_type": "markdown",
   "id": "f5608d07-dd1e-47f4-bf0c-bb1f09b7885a",
   "metadata": {},
   "source": [
    "## Calculate Monthly Returns and Excess Returns\n",
    "We will calculate the monthly returns and excess returns by:\n",
    "1. Calculating monthly returns, dropping NaN values, and converting to percentages.\n",
    "2. Subtracting the risk-free rate from the FF Dataset to get excess returns, and dropping NaN values.\n"
   ]
  },
  {
   "cell_type": "code",
   "execution_count": 6,
   "id": "7ea607d5-1b67-46a3-82c9-a4a2d172b292",
   "metadata": {},
   "outputs": [
    {
     "name": "stdout",
     "output_type": "stream",
     "text": [
      "Excess Returns:\n",
      "            sample_fund\n",
      "Dates                  \n",
      "2013-01-31      -1.4736\n",
      "2013-02-28      -3.1243\n",
      "2013-03-31       1.0260\n",
      "2013-04-30       5.7185\n",
      "2013-05-31       3.4392\n",
      "2013-06-30      -3.9324\n",
      "2013-07-31      -0.6805\n",
      "2013-08-31      -5.0780\n",
      "2013-09-30       5.7755\n",
      "2013-10-31       6.3811\n"
     ]
    }
   ],
   "source": [
    "# Subtract risk-free rate to get excess returns, and drop NaN values\n",
    "fund_returns_excess = fund_returns.sub(ff6['RF'], axis=0).dropna()\n",
    "print('Excess Returns:')\n",
    "print(fund_returns_excess.head(10))\n"
   ]
  },
  {
   "cell_type": "markdown",
   "id": "1516f667-5266-49fb-a438-e69f537389d2",
   "metadata": {},
   "source": [
    "## Concatenate Excess Returns with Fama-French 6 Factors Dataset\n",
    "We will concatenate the excess returns with the Fama-French 6 factors dataset.\n"
   ]
  },
  {
   "cell_type": "code",
   "execution_count": 7,
   "id": "39efa864-147a-4d5b-aed7-285e9de545e1",
   "metadata": {},
   "outputs": [
    {
     "name": "stdout",
     "output_type": "stream",
     "text": [
      "            sample_fund      MF    SMB5      HML     RMW     CMA     WML\n",
      "Dates                                                                   \n",
      "2013-01-31      -1.4736  0.7448 -3.1895  -4.2488  1.0954 -0.0078 -2.2946\n",
      "2013-02-28      -3.1243 -7.5909 -3.8411  -8.1948  5.1298 -2.6902  2.4837\n",
      "2013-03-31       1.0260 -2.7063 -3.9798  -3.8876  6.9282 -4.3362  4.0490\n",
      "2013-04-30       5.7185  3.4903 -0.5365   1.8054 -4.2462  3.7902  0.5470\n",
      "2013-05-31       3.4392  0.0382 -0.3801 -10.6470  2.7881 -1.4588  6.2380\n",
      "...                 ...     ...     ...      ...     ...     ...     ...\n",
      "2024-01-31       6.1928  3.7383  4.8908   6.0960 -4.5838  3.2928  7.1994\n",
      "2024-02-29       2.9112  1.4083 -3.0371  -1.2132  0.1622  0.5138  1.1601\n",
      "2024-03-31       0.5099 -0.9468 -7.2897   0.2156  0.0868 -1.7741  1.0147\n",
      "2024-04-30       7.1074  4.1428  7.2149   3.4824 -1.6815  0.8483  3.0944\n",
      "2024-05-31      -4.1237  0.5197 -4.8571  -1.4302  1.7060  0.5262  1.0092\n",
      "\n",
      "[137 rows x 7 columns]\n"
     ]
    }
   ],
   "source": [
    "# Concatenate excess returns with Fama-French 6 factors dataset\n",
    "fund_df = pd.concat([fund_returns_excess, ff6[['MF', 'SMB5', 'HML', 'RMW', 'CMA', 'WML']]], axis=1).dropna()\n",
    "print(fund_df)"
   ]
  },
  {
   "cell_type": "markdown",
   "id": "db76d91f-073c-4ce1-8908-e793f99f5afd",
   "metadata": {},
   "source": [
    "## Perform Linear Regression and Print Summary\n",
    "We will perform a linear regression analysis using the excess returns and Fama-French 6 factors and print the regression summary. We fit a standard model here, but for the real world, we suggest corrections to deal with the auto-correlation inherent in financial time series.\n"
   ]
  },
  {
   "cell_type": "code",
   "execution_count": 8,
   "id": "96557dd3-a882-4435-ad6e-bb04b663cfe2",
   "metadata": {},
   "outputs": [
    {
     "name": "stdout",
     "output_type": "stream",
     "text": [
      "                            OLS Regression Results                            \n",
      "==============================================================================\n",
      "Dep. Variable:            sample_fund   R-squared:                       0.885\n",
      "Model:                            OLS   Adj. R-squared:                  0.880\n",
      "Method:                 Least Squares   F-statistic:                     167.1\n",
      "Date:                Sun, 30 Jun 2024   Prob (F-statistic):           1.37e-58\n",
      "Time:                        23:43:05   Log-Likelihood:                 369.11\n",
      "No. Observations:                 137   AIC:                            -724.2\n",
      "Df Residuals:                     130   BIC:                            -703.8\n",
      "Df Model:                           6                                         \n",
      "Covariance Type:            nonrobust                                         \n",
      "==============================================================================\n",
      "                 coef    std err          t      P>|t|      [0.025      0.975]\n",
      "------------------------------------------------------------------------------\n",
      "Intercept      0.0028      0.002      1.795      0.075      -0.000       0.006\n",
      "MF             1.0266      0.040     25.979      0.000       0.948       1.105\n",
      "SMB5           0.1670      0.046      3.594      0.000       0.075       0.259\n",
      "HML           -0.1136      0.064     -1.762      0.080      -0.241       0.014\n",
      "RMW            0.2338      0.087      2.694      0.008       0.062       0.405\n",
      "CMA            0.0995      0.076      1.312      0.192      -0.051       0.250\n",
      "WML            0.2116      0.041      5.223      0.000       0.131       0.292\n",
      "==============================================================================\n",
      "Omnibus:                        0.110   Durbin-Watson:                   2.029\n",
      "Prob(Omnibus):                  0.947   Jarque-Bera (JB):                0.023\n",
      "Skew:                          -0.032   Prob(JB):                        0.989\n",
      "Kurtosis:                       3.003   Cond. No.                         68.3\n",
      "==============================================================================\n",
      "\n",
      "Notes:\n",
      "[1] Standard Errors assume that the covariance matrix of the errors is correctly specified.\n"
     ]
    }
   ],
   "source": [
    "# Perform linear regression using statsmodels\n",
    "regression = smf.ols('sample_fund ~ MF + SMB5 + HML + RMW + CMA + WML', data=fund_df / 100).fit()\n",
    "\n",
    "# Print the regression summary\n",
    "print(regression.summary())\n"
   ]
  },
  {
   "cell_type": "markdown",
   "id": "83eb9aca-cc9a-47fe-9bb6-71358713641e",
   "metadata": {},
   "source": [
    "## A Multicollinearity Check\n",
    "The explanatory variables might be highly correlated, affecting coefficient accuracy. We have already examined the correlations and noted the higher correlations between HML and RMW.\n",
    "\n",
    "A further test is the Variance Inflation Factor test. This is a widely used method that calculates a score for each independent variable. A VIF of 1 indicates no multicollinearity, while values greater than 5 (or sometimes 10) suggest potential issues.\n",
    "Higher VIF values imply an independent variable can be largely explained by a linear combination of other independent variables, making its individual coefficient estimate less reliable. Most statistical software packages can calculate VIFs.\n"
   ]
  },
  {
   "cell_type": "code",
   "execution_count": 9,
   "id": "42e0a2f8-6478-4db4-a903-6333f6881f3c",
   "metadata": {},
   "outputs": [
    {
     "name": "stdout",
     "output_type": "stream",
     "text": [
      "       VIF\n",
      "MF    1.71\n",
      "SMB5  1.38\n",
      "HML   3.36\n",
      "RMW   2.35\n",
      "CMA   1.33\n",
      "WML   1.26\n"
     ]
    }
   ],
   "source": [
    "from statsmodels.stats.outliers_influence import variance_inflation_factor\n",
    "\n",
    "# Extract the independent variables from the fitted model\n",
    "X = fund_df[['MF', 'SMB5', 'HML','RMW','CMA','WML']]/100\n",
    "#calculate VIF for each explanatory variable\n",
    "vifs = pd.DataFrame([variance_inflation_factor(X.values, i) for i in range(X.shape[1])],\n",
    "                   index=[X.columns], columns=['VIF'])\n",
    "\n",
    "print(vifs.round(2))"
   ]
  },
  {
   "cell_type": "markdown",
   "id": "7070d4d3-d247-4f23-923c-4a4230a7e139",
   "metadata": {},
   "source": [
    "## Plot Residuals"
   ]
  },
  {
   "cell_type": "code",
   "execution_count": 10,
   "id": "64a32960",
   "metadata": {},
   "outputs": [
    {
     "data": {
      "text/plain": [
       "<Axes: xlabel='Dates'>"
      ]
     },
     "execution_count": 10,
     "metadata": {},
     "output_type": "execute_result"
    },
    {
     "data": {
      "image/png": "[encoded data removed]",
      "text/plain": [
       "<Figure size 640x480 with 1 Axes>"
      ]
     },
     "metadata": {},
     "output_type": "display_data"
    }
   ],
   "source": [
    "regression.resid.plot()"
   ]
  },
  {
   "cell_type": "markdown",
   "id": "249c83d2",
   "metadata": {},
   "source": [
    "# References\n",
    "1. Fama, E. F., & French, K. R. (1993). Common risk factors in the returns on stocks and bonds. *Journal of Financial Economics, 33*(1), 3-56.\n",
    "2. Carhart, M. M. (1997). On persistence in mutual fund performance. *The Journal of Finance, 52*(1), 57-82.\n",
    "3. Fama, E. F., & French, K. R. (2015). A five-factor asset pricing model. *Journal of Financial Economics, 116*(1), 1-22.\n",
    "4. Raju, R. (2022). Four and Five-Factor Models in the Indian Equities Market. *SSRN eLibrary*, March, 37\n",
    "5. Raju, R. (2022), A Five-Factor Asset Pricing Model: Preliminary Evidence from India, *SSRN eLibrary*, August, 33\n",
    "6. Factor Data sourced from [Invespar Data Library: Data Library: Fama-French Factors, Momentum, and Low-Risk Factors for the Indian Market](http://invespar.com/research)."
   ]
  },
  {
   "cell_type": "markdown",
   "id": "74c3c892",
   "metadata": {},
   "source": []
  }
 ],
 "metadata": {
  "kernelspec": {
   "display_name": "Python 3",
   "language": "python",
   "name": "python3"
  },
  "language_info": {
   "codemirror_mode": {
    "name": "ipython",
    "version": 3
   },
   "file_extension": ".py",
   "mimetype": "text/x-python",
   "name": "python",
   "nbconvert_exporter": "python",
   "pygments_lexer": "ipython3",
   "version": "3.9.18"
  }
 },
 "nbformat": 4,
 "nbformat_minor": 5
}
