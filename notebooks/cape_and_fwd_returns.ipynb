{
 "cells": [
  {
   "cell_type": "markdown",
   "metadata": {},
   "source": [
    "# Regression of Forward 5-Year Returns vs Log(CAPE)\n",
    "In this notebook, we explore the relationship between the starting CAPE (Cyclically Adjusted Price-to-Earnings) and subsequent 5-year forward returns in the Indian market. The analysis relies on publicly available data.\n",
    "        \n",
    "**Why does this matter?** CAPE is often used by long-term investors and researchers to gauge whether the market is under- or over-valued. By examining how the log of CAPE correlates with actual future returns, we gain a better understanding of how starting valuations may relate to subsequent performance.\n",
    "\n",
    "In the sections that follow, we will:\n",
    "1. Load necessary Python libraries.\n",
    "2. Load the Indian CAPE dataset from [India CAPE (Cyclically Adjusted P/E)](https://capeindia.iima.ac.in/)\n",
    "3. Load the Fama-French 6 factors dataset using the `IndiaFactorLibrary` python library that accesses Invespar's [\"Data Library: Fama-French Factors, Momentum, and Low-Risk Factors for the Indian Market\"](http://invespar.com/research)\n",
    "4. Merge these datasets on a common timeline.\n",
    "5. Calculate forward 5-year annualised returns.\n",
    "6. Regress these forward returns against the log of CAPE.\n",
    "7. Visualize the results.\n",
    "        \n",
    "Let us begin!"
   ]
  },
  {
   "cell_type": "code",
   "execution_count": null,
   "metadata": {},
   "outputs": [],
   "source": [
    "# Install required libraries (this is only necessary \n",
    "# if running in an environment that does not automatically handle \n",
    "# requirements.txt)\n",
    "!pip install indiafactorlibrary\n"
   ]
  },
  {
   "cell_type": "markdown",
   "metadata": {},
   "source": [
    "## Step 1: Import Required Libraries\n",
    "We start by importing the necessary libraries for data processing, regression analysis, and visualization."
   ]
  },
  {
   "cell_type": "code",
   "execution_count": 41,
   "metadata": {},
   "outputs": [],
   "source": [
    "import pandas as pd\n",
    "import numpy as np\n",
    "from sklearn.linear_model import LinearRegression\n",
    "import matplotlib.pyplot as plt\n",
    "from indiafactorlibrary import IndiaFactorLibrary"
   ]
  },
  {
   "cell_type": "markdown",
   "metadata": {},
   "source": [
    "## Step 2: Load the India CAPE Dataset\n",
    "We load the CAPE dataset from the capeindia.iima.ac.in url."
   ]
  },
  {
   "cell_type": "code",
   "execution_count": 42,
   "metadata": {},
   "outputs": [
    {
     "name": "stdout",
     "output_type": "stream",
     "text": [
      "Cape India Dataset:\n",
      "            BSE Sensex CAPE 10  BSE Sensex CAPE 7  BSE Sensex CAPE 5  \\\n",
      "Date                                                                   \n",
      "2024-07-31               36.38              35.55              33.99   \n",
      "2024-08-31               36.29              35.34              33.67   \n",
      "2024-09-30               37.21              36.11              34.30   \n",
      "2024-10-31               35.78              34.60              32.75   \n",
      "2024-11-30               34.60              33.33              31.45   \n",
      "\n",
      "            NIFTY 500 CAPE 10  NIFTY 500 CAPE 7  NIFTY 500 CAPE 5  \n",
      "Date                                                               \n",
      "2024-07-31              44.99             42.48             38.86  \n",
      "2024-08-31              44.95             42.32             38.58  \n",
      "2024-09-30              45.99             43.16             39.21  \n",
      "2024-10-31              44.03             41.18             37.29  \n",
      "2024-11-30              41.97             39.11             35.33  \n"
     ]
    }
   ],
   "source": [
    "url1 = 'https://capeindia.iima.ac.in/files/india_cape.csv'\n",
    "capeindia = pd.read_csv(url1, index_col=['Date'], parse_dates=['Date'])\n",
    "print(\"Cape India Dataset:\")\n",
    "print(capeindia.tail())"
   ]
  },
  {
   "cell_type": "markdown",
   "metadata": {},
   "source": [
    "## Step 3: Load the Invespar Factor Dataset Using IndiaFactorLibrary\n",
    "We use the `IndiaFactorLibrary` to load the Fama-French 6 factors dataset, which includes the market returns needed to compute forward returns."
   ]
  },
  {
   "cell_type": "code",
   "execution_count": 43,
   "metadata": {},
   "outputs": [
    {
     "name": "stdout",
     "output_type": "stream",
     "text": [
      "India FF6 Dataset:\n",
      "                MF    SMB5     HML     RMW     CMA     WML      RF     MKT\n",
      "Dates                                                                     \n",
      "2024-08-31 -0.2267  1.9443 -0.5938  1.3217 -0.7434 -1.1716  0.5528  0.3261\n",
      "2024-09-30  0.9313 -0.0897 -0.9723 -0.2425 -1.6209 -2.5116  0.5528  1.4841\n",
      "2024-10-31 -7.1739  4.2714 -0.3687  0.4296 -0.4976  0.8557  0.5640 -6.6099\n",
      "2024-11-30 -0.8015  1.3382  0.6760  0.7256  0.7858  1.5223  0.4870 -0.3145\n",
      "2024-12-31 -2.1594  1.7049 -0.6544  0.3163 -1.2546  1.6039  0.5388 -1.6206\n"
     ]
    },
    {
     "name": "stderr",
     "output_type": "stream",
     "text": [
      "/Users/rajanraju/anaconda3/envs/Rdp2025/lib/python3.12/site-packages/indiafactorlibrary/indiafactorlibrary.py:127: FutureWarning: The argument 'date_parser' is deprecated and will be removed in a future version. Please use 'date_format' instead, or read your data in as 'object' dtype and then call 'to_datetime'.\n",
      "  df = pd.read_csv(StringIO(src[start:]), **params)\n",
      "/Users/rajanraju/anaconda3/envs/Rdp2025/lib/python3.12/site-packages/indiafactorlibrary/indiafactorlibrary.py:127: FutureWarning: The argument 'date_parser' is deprecated and will be removed in a future version. Please use 'date_format' instead, or read your data in as 'object' dtype and then call 'to_datetime'.\n",
      "  df = pd.read_csv(StringIO(src[start:]), **params)\n"
     ]
    }
   ],
   "source": [
    "ifl = IndiaFactorLibrary()\n",
    "ff6 = ifl.read('ff6')[0]  # Reading Fama-French 6 factors dataset\n",
    "print(\"India FF6 Dataset:\")\n",
    "print(ff6.tail())"
   ]
  },
  {
   "cell_type": "markdown",
   "metadata": {},
   "source": [
    "## Step 4: Merge the Datasets\n",
    "\n",
    "In order to align our CAPE data with market returns, we merge the data on their respective dates. We focus on two columns:\n",
    "- The CAPE values (We choose thr `NIFTY 500 CAPE 10`),\n",
    "- The market (`MKT`) factor returns from the Fama-French dataset,\n",
    "\n",
    "After merging, we store them in a single `DataFrame`."
   ]
  },
  {
   "cell_type": "code",
   "execution_count": 44,
   "metadata": {},
   "outputs": [
    {
     "name": "stdout",
     "output_type": "stream",
     "text": [
      "Merged Dataset:\n",
      "             cape     MKT\n",
      "2024-08-31  44.95  0.3261\n",
      "2024-09-30  45.99  1.4841\n",
      "2024-10-31  44.03 -6.6099\n",
      "2024-11-30  41.97 -0.3145\n",
      "2024-12-31    NaN -1.6206\n"
     ]
    }
   ],
   "source": [
    "merged_df = pd.concat([\n",
    "    capeindia['NIFTY 500 CAPE 10'].dropna().squeeze().to_frame('cape'),\n",
    "    ff6['MKT']\n",
    "], axis=1)\n",
    "\n",
    "print(\"Merged Dataset:\")\n",
    "print(merged_df.tail())"
   ]
  },
  {
   "cell_type": "markdown",
   "metadata": {},
   "source": [
    "## Step 5: Prepare Market Index and Calculate Forward 5-Year Returns\n",
    "We calculate the forward 5-year annualised returns based on the market index that we derive from the Market returns.\n",
    "\n",
    "Using the monthly `MKT` returns, we construct a hypothetical market index by cumulatively multiplying the returns. Then, we compute the forward 5-year annualized return by taking the ratio of the index level 60 months later (i.e., 5 years later, assuming monthly data) to the current index level, raising it to the power of (1/5), and subtracting 1.\n",
    "\n",
    "In other words:\n",
    "\n",
    "$$ \\text{5-year forward return} = \\left(\\frac{\\text{Index}_{(t+60)}}{\\text{Index}_{t}}\\right)^{\\frac{1}{5}} - 1 $$\n",
    "      ]"
   ]
  },
  {
   "cell_type": "code",
   "execution_count": 45,
   "metadata": {},
   "outputs": [],
   "source": [
    "merged_df['market_index'] = (1 + merged_df['MKT'] / 100).cumprod()\n",
    "merged_df['5y_forward_return'] = (\n",
    "    merged_df['market_index'].shift(-60) / merged_df['market_index']\n",
    ").pow(1/5) - 1"
   ]
  },
  {
   "cell_type": "markdown",
   "metadata": {},
   "source": [
    "## Step 6: Log Transform CAPE\n",
    "Next, we convert the CAPE value to its natural logarithm. Empirical studies often log-transform valuation metrics to achieve better linearity when doing regression analysis.\"\n",
    "      ]"
   ]
  },
  {
   "cell_type": "code",
   "execution_count": 46,
   "metadata": {},
   "outputs": [],
   "source": [
    "merged_df['log_cape'] = np.log(merged_df['cape'])"
   ]
  },
  {
   "cell_type": "markdown",
   "metadata": {},
   "source": [
    "## Step 7: Prepare Data for Regression\n",
    "We focus our analysis on the columns needed for our model: `log_cape` and `5y_forward_return`. We also drop any rows with missing values to ensure a clean dataset for regression.\n",
    "      ]"
   ]
  },
  {
   "cell_type": "code",
   "execution_count": 47,
   "metadata": {},
   "outputs": [],
   "source": [
    "regression_df = merged_df[['log_cape', '5y_forward_return']].dropna()"
   ]
  },
  {
   "cell_type": "markdown",
   "metadata": {},
   "source": [
    "## Step 8: Perform Regression\n",
    "We regress the forward 5-year returns on the log of CAPE.\n",
    "We set up a simple linear regression model:\n",
    "$$ \\text{5y forward return} = \\beta_0 + \\beta_1 * \\ln(\\text{CAPE}) + \\epsilon $$\n",
    "\n",
    "We then fit the data to estimate $\\beta_0$ (intercept) and $\\beta_1$ (slope)."
   ]
  },
  {
   "cell_type": "code",
   "execution_count": 48,
   "metadata": {},
   "outputs": [
    {
     "name": "stdout",
     "output_type": "stream",
     "text": [
      "Regression Coefficient: -0.13\n",
      "Regression Intercept: 0.53\n"
     ]
    }
   ],
   "source": [
    "X = regression_df[['log_cape']]\n",
    "y = regression_df['5y_forward_return']\n",
    "\n",
    "model = LinearRegression()\n",
    "model.fit(X, y)\n",
    "\n",
    "print(f\"Regression Coefficient: {model.coef_[0]:.2f}\")\n",
    "print(f\"Regression Intercept: {model.intercept_:.2f}\")"
   ]
  },
  {
   "cell_type": "markdown",
   "metadata": {},
   "source": [
    "#### Goodness of Fit $R^2$ and its interpretation\n",
    "\n",
    "The coefficient of determination $ R^2 for our regression indicates how well forward returns are explained by intial CAPE. Most empirical studies have shown a low explanatory power, making initial CAPE an indicator of future returns, but not a robust predictor of future returns. While starting valuations have some explanatory power, other factors and market dynamics also play significant roles in determining future returns. \n",
    "\n",
    "It is important to note that $R^2$ alone does not confirm the correctness of a model or imply causality; rather, it gives a sense of how well the chosen independent variable(s) collectively explain the variation in the dependent variable. As more data is collected or different model specifications are tested, the $ R^2 $ value may change, highlighting the evolving nature of market conditions and the importance of considering multiple explanatory factors in quantitative finance research."
   ]
  },
  {
   "cell_type": "code",
   "execution_count": 49,
   "metadata": {},
   "outputs": [
    {
     "name": "stdout",
     "output_type": "stream",
     "text": [
      "0.357\n"
     ]
    }
   ],
   "source": [
    "# Calculate R^2 of the regression\n",
    "r2 = model.score(X, y)\n",
    "print(f\"{r2:.3f}\")"
   ]
  },
  {
   "cell_type": "markdown",
   "metadata": {},
   "source": [
    "## Step 9: Plot the Results\n",
    "\n",
    "Finally, we visualize the scatter of (log(CAPE), forward returns) along with the fitted regression line. We also include a vertical line indicating the most *current* log(CAPE) value to show where the market stands based on the latest data.\n",
    "\n",
    "The y-axis is converted to percentage terms for better readability."
   ]
  },
  {
   "cell_type": "code",
   "execution_count": 35,
   "metadata": {},
   "outputs": [
    {
     "data": {
      "image/png": "[encoded data removed]",
      "text/plain": [
       "<Figure size 1000x600 with 1 Axes>"
      ]
     },
     "metadata": {},
     "output_type": "display_data"
    }
   ],
   "source": [
    "# Create the figure and axis objects\n",
    "fig, ax = plt.subplots(figsize=(10, 6))\n",
    "\n",
    "# Scatter plot with square markers\n",
    "ax.scatter(X, y * 100, alpha=0.6, label='Data Points', marker='s')\n",
    "\n",
    "# Regression line\n",
    "ax.plot(X, model.predict(X) * 100, color='red', label='Regression Line')\n",
    "\n",
    "# Highlight current CAPE level\n",
    "current_log_cape = np.log(merged_df['cape'].dropna().iloc[-1])\n",
    "ax.axvline(x=current_log_cape, color='blue', linestyle='--')\n",
    "\n",
    "# Annotate current CAPE level\n",
    "ax.annotate(\n",
    "    f\"Current CAPE: {merged_df['cape'].dropna().iloc[-1]:.1f}\", \n",
    "    xy=(current_log_cape, 0), \n",
    "    xytext=(current_log_cape -.4, -1), \n",
    "    arrowprops=dict(arrowstyle=\"->\", color='blue'),\n",
    "    fontsize=10,\n",
    "    color='blue'\n",
    ")\n",
    "\n",
    "# Add labels, title, and legend\n",
    "ax.set_xlabel('Log(CAPE)')\n",
    "ax.set_ylabel('Forward 5-Year Annualised Market Return (%)')\n",
    "ax.set_title('Regression: Forward 5-Year Return vs Log(CAPE)')\n",
    "ax.legend()\n",
    "\n",
    "# Add source annotation\n",
    "source_text = \"Source: CAPE Data from IIMA, Market Data from Invespar Data Library\"\n",
    "fig.text(0.1, -0.02, source_text, fontsize=10, color='gray')\n",
    "\n",
    "# Show plot\n",
    "plt.show()\n"
   ]
  },
  {
   "cell_type": "markdown",
   "metadata": {},
   "source": [
    "## Conclusion and Observations\n",
    "\n",
    "In this notebook, we demonstrated how to:\n",
    "\n",
    "- Download Indian CAPE data and factor data.\n",
    "- Merge different datasets to align dates.\n",
    "- Compute a 5-year forward return from monthly return series.\n",
    "- Run a linear regression of forward returns against the log of CAPE.\n",
    "\n",
    "A *negative* coefficient $\\beta_1$ would suggest that higher CAPE levels are associated with lower subsequent returns, aligning with many valuation-based theories. A *positive* coefficient would imply the opposite. Real-world data can be noisy, so it is useful to combine these findings with other research and practical considerations.\n",
    "\n",
    "We hope this exercise provides a illustration of how you can use publicly available datasets to conduct quantitative analyses of valuation metrics in the Indian equity markets.\n",
    "      "
   ]
  },
  {
   "cell_type": "markdown",
   "metadata": {},
   "source": [
    "## Further Considerations and Next Steps\n",
    "\n",
    "While this notebook provides a foundational analysis of the relationship between the logarithm of CAPE and forward 5-year market returns, it is important to recognise that regression models rely on several underlying assumptions to ensure their validity and reliability. In this section, we highlight key considerations and suggest avenues for further exploration to enhance the robustness of our analysis.\n",
    "\n",
    "1. **Assumptions of Linear Regression**\n",
    "\n",
    "   Linear regression models are built upon several critical assumptions:\n",
    "\n",
    "   ### Linearity\n",
    "   The relationship between the independent variable (log(CAPE)) and the dependent variable (forward 5-year returns) is assumed to be linear. While our scatter plot and regression line suggest a linear trend, it is essential to verify this assumption formally. This could involve exploring non-linear models or adding polynomial terms if the relationship deviates from linearity.\n",
    "\n",
    "   ### Independence of Errors\n",
    "   The residuals (errors) are assumed to be independent of each other. The Durbin-Watson statistic is a test that indicates the presence of positive autocorrelation. Addressing autocorrelation might involve using time series models that account for such dependencies or incorporating lagged variables into the model.\n",
    "\n",
    "   ### Homoskedasticity\n",
    "   The assumption that residuals have constant variance across all levels of the independent variable can be tested using the Breusch-Pagan test. Ensuring homoskedasticity is crucial for the reliability of standard errors and hypothesis tests.\n",
    "\n",
    "   ### Normality of Residuals\n",
    "   The Shapiro-Wilk test examines whether the residuals are normally distributed. A violation of this assumption can impact the validity of confidence intervals and hypothesis tests. Potential remedies include transforming the dependent variable, using robust regression techniques, or applying non-parametric methods.\n",
    "\n",
    "2. **Model Specification and Variable Selection**\n",
    "\n",
    "   Our current model includes only the logarithm of CAPE as an explanatory variable. However, financial markets are influenced by a multitude of factors. Incorporating additional variables such as interest rates, macroeconomic indicators, or other valuation metrics could improve the model's explanatory power and provide a more nuanced understanding of the drivers behind market returns. It is important to ensure that not all variables are appropriate; for instance, inflation is one of the inputs in calculating CAPE. Using inflation-adjusted returns violates the assumption of independence between the dependent and explanatory variables, potentially leading to spurious results.\n",
    "\n",
    "3. **Addressing Multicollinearity**\n",
    "\n",
    "   If additional variables are introduced, it is crucial to assess multicollinearity to ensure that independent variables do not highly correlate with each other, which can distort coefficient estimates and inflate standard errors. Techniques such as Variance Inflation Factor (VIF) analysis can be employed to detect and mitigate multicollinearity.\n",
    "\n",
    "4. **Robustness Checks and Validation**\n",
    "\n",
    "   To ensure that findings are not specific to the chosen sample or time period, conducting robustness checks is advisable. This can include:\n",
    "\n",
    "   - **Out-of-Sample Testing:**  \n",
    "     Evaluating the model's performance on different time periods or subsets of the data to assess its generalisability.\n",
    "   \n",
    "   - **Alternative Specifications:**  \n",
    "     Testing different model specifications, such as adding interaction terms or using alternative functional forms, to verify the consistency of the results.\n",
    "   \n",
    "   - **Cross-Validation:**  \n",
    "     Implementing cross-validation techniques to prevent overfitting and to better estimate the model's predictive performance.\n"
   ]
  },
  {
   "cell_type": "markdown",
   "metadata": {},
   "source": [
    "# References\n",
    "\n",
    "1. Jacob, J. and Raju, R. (2024), Forecast or Fallacy? Shiller's CAPE: Market and Style Factor Forward Returns in Indian Equities. *SSRN eLibrary*, August, 27\n",
    "2. Raju, R. (2022). Four and Five-Factor Models in the Indian Equities Market. *SSRN eLibrary*, March, 37\n",
    "3. India CAPE Data sourced from [India CAPE (Cyclically Adjusted P/E)](https://capeindia.iima.ac.in/)\n",
    "4. Factor Data sourced from [Invespar Data Library: Data Library: Fama-French Factors, Momentum, and Low-Risk Factors for the Indian Market](http://invespar.com/research)."
   ]
  },
  {
   "cell_type": "code",
   "execution_count": null,
   "metadata": {},
   "outputs": [],
   "source": []
  }
 ],
 "metadata": {
  "kernelspec": {
   "display_name": "Rdp2025",
   "language": "python",
   "name": "python3"
  },
  "language_info": {
   "codemirror_mode": {
    "name": "ipython",
    "version": 3
   },
   "file_extension": ".py",
   "mimetype": "text/x-python",
   "name": "python",
   "nbconvert_exporter": "python",
   "pygments_lexer": "ipython3",
   "version": "3.12.8"
  }
 },
 "nbformat": 4,
 "nbformat_minor": 4
}
