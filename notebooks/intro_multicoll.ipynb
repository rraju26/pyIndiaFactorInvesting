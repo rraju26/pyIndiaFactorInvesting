{
 "cells": [
  {
   "cell_type": "markdown",
   "metadata": {},
   "source": [
    "# Multicollinearity in Asset Pricing Models Using Indian Data: A Primer\n",
    "\n",
    "## Introduction\n",
    "\n",
    "In a multiple regression model, multicollinearity occurs when two or more predictor variables (right-hand side variables) exhibit high correlation. This effect makes it difficult to isolate the individual impact of each predictor on the dependent variable. In asset pricing and factor models, multicollinearity can lead to unreliable estimates of factor loadings, which are crucial for understanding the relationship between risk factors and asset returns.\n",
    "\n",
    "Addressing multicollinearity in multivariate asset pricing models, like the Fama-French three-factor and five-factor models, is a key step in improving their accuracy and reliability. These models, where multiple predictors (risk factors) often show high correlations due to overlapping information or economic relationships, are widely used to explain the returns of financial portfolios.\n",
    "\n",
    "In India, many analysts use publicly available strategy indices as predictor variables. In this notebook, we will explore the issue of multicollinearity in asset pricing models using Indian financial data and demonstrate how to identify and mitigate multicollinearity, enhancing the robustness and interpretability of analyses.\n"
   ]
  },
  {
   "cell_type": "markdown",
   "metadata": {},
   "source": [
    "## Import Libraries"
   ]
  },
  {
   "cell_type": "code",
   "execution_count": null,
   "metadata": {},
   "outputs": [],
   "source": [
    "# Install required libraries (this is only necessary \n",
    "# if running in an environment that does not automatically handle \n",
    "# requirements.txt)\n",
    "!pip install indiafactorlibrary\n"
   ]
  },
  {
   "cell_type": "code",
   "execution_count": 85,
   "metadata": {},
   "outputs": [],
   "source": [
    "# Import necessary libraries\n",
    "import pandas as pd\n",
    "import numpy as np\n",
    "import statsmodels.formula.api as smf\n",
    "import matplotlib.pyplot as plt\n",
    "import seaborn as sns"
   ]
  },
  {
   "cell_type": "markdown",
   "metadata": {},
   "source": [
    "## Load Files\n",
    "\n",
    "We will use a CSV file named 'nifty_indices_rets_example.csv', which contains monthly returns for several popular Nifty indices. These indices are:\n",
    "\n",
    "- **Nifty 500**: Represents the total market.\n",
    "- **Nifty 200**: Represents large and mid-cap stocks.\n",
    "- **Nifty Smallcap 100**: Represents small-cap stocks.\n",
    "- **Nifty 500 Value 50**: Represents value-style stocks.\n",
    "- **Nifty 200 Quality 30**: Represents quality-style stocks.\n",
    "- **Nifty 200 Momentum 30**: Represents momentum-style stocks.\n",
    "- **Nifty 100 Low Volatility 30**: Represents low-volatility stocks.\n",
    "\n",
    "Analysts commonly use these indices as proxies for various market segments and investment styles.\n",
    "\n",
    "The data in the CSV file is derived from daily Net Asset Values (NAVs) converted to monthly returns. The original data was sourced from ABSL AMC. For more details on the data and methodology, refer to the [Additional Data on Quant Model](https://mutualfund.adityabirlacapital.com/market-update).\n"
   ]
  },
  {
   "cell_type": "code",
   "execution_count": 86,
   "metadata": {},
   "outputs": [
    {
     "data": {
      "text/html": [
       "<div>\n",
       "<style scoped>\n",
       "    .dataframe tbody tr th:only-of-type {\n",
       "        vertical-align: middle;\n",
       "    }\n",
       "\n",
       "    .dataframe tbody tr th {\n",
       "        vertical-align: top;\n",
       "    }\n",
       "\n",
       "    .dataframe thead th {\n",
       "        text-align: right;\n",
       "    }\n",
       "</style>\n",
       "<table border=\"1\" class=\"dataframe\">\n",
       "  <thead>\n",
       "    <tr style=\"text-align: right;\">\n",
       "      <th></th>\n",
       "      <th>NIFTY_500</th>\n",
       "      <th>NIFTY_200</th>\n",
       "      <th>NIFTY_SMALLCAP_100</th>\n",
       "      <th>NIFTY500_VALUE_50</th>\n",
       "      <th>NIFTY200_QUALITY_30</th>\n",
       "      <th>NIFTY200_MOMENTUM_30</th>\n",
       "      <th>NIFTY100_LOW_VOLATILITY_30</th>\n",
       "    </tr>\n",
       "    <tr>\n",
       "      <th>Dates</th>\n",
       "      <th></th>\n",
       "      <th></th>\n",
       "      <th></th>\n",
       "      <th></th>\n",
       "      <th></th>\n",
       "      <th></th>\n",
       "      <th></th>\n",
       "    </tr>\n",
       "  </thead>\n",
       "  <tbody>\n",
       "    <tr>\n",
       "      <th>2005-05-31</th>\n",
       "      <td>0.09</td>\n",
       "      <td>0.09</td>\n",
       "      <td>0.09</td>\n",
       "      <td>0.10</td>\n",
       "      <td>0.08</td>\n",
       "      <td>0.10</td>\n",
       "      <td>0.09</td>\n",
       "    </tr>\n",
       "    <tr>\n",
       "      <th>2005-06-30</th>\n",
       "      <td>0.04</td>\n",
       "      <td>0.05</td>\n",
       "      <td>0.01</td>\n",
       "      <td>-0.02</td>\n",
       "      <td>0.06</td>\n",
       "      <td>0.04</td>\n",
       "      <td>0.05</td>\n",
       "    </tr>\n",
       "    <tr>\n",
       "      <th>2005-07-31</th>\n",
       "      <td>0.07</td>\n",
       "      <td>0.06</td>\n",
       "      <td>0.12</td>\n",
       "      <td>0.12</td>\n",
       "      <td>0.04</td>\n",
       "      <td>0.09</td>\n",
       "      <td>0.07</td>\n",
       "    </tr>\n",
       "    <tr>\n",
       "      <th>2005-08-31</th>\n",
       "      <td>0.05</td>\n",
       "      <td>0.04</td>\n",
       "      <td>0.15</td>\n",
       "      <td>0.06</td>\n",
       "      <td>0.03</td>\n",
       "      <td>0.00</td>\n",
       "      <td>0.06</td>\n",
       "    </tr>\n",
       "    <tr>\n",
       "      <th>2005-09-30</th>\n",
       "      <td>0.07</td>\n",
       "      <td>0.08</td>\n",
       "      <td>0.02</td>\n",
       "      <td>0.04</td>\n",
       "      <td>0.09</td>\n",
       "      <td>0.09</td>\n",
       "      <td>0.07</td>\n",
       "    </tr>\n",
       "  </tbody>\n",
       "</table>\n",
       "</div>"
      ],
      "text/plain": [
       "            NIFTY_500  NIFTY_200  NIFTY_SMALLCAP_100  NIFTY500_VALUE_50  \\\n",
       "Dates                                                                     \n",
       "2005-05-31       0.09       0.09                0.09               0.10   \n",
       "2005-06-30       0.04       0.05                0.01              -0.02   \n",
       "2005-07-31       0.07       0.06                0.12               0.12   \n",
       "2005-08-31       0.05       0.04                0.15               0.06   \n",
       "2005-09-30       0.07       0.08                0.02               0.04   \n",
       "\n",
       "            NIFTY200_QUALITY_30  NIFTY200_MOMENTUM_30  \\\n",
       "Dates                                                   \n",
       "2005-05-31                 0.08                  0.10   \n",
       "2005-06-30                 0.06                  0.04   \n",
       "2005-07-31                 0.04                  0.09   \n",
       "2005-08-31                 0.03                  0.00   \n",
       "2005-09-30                 0.09                  0.09   \n",
       "\n",
       "            NIFTY100_LOW_VOLATILITY_30  \n",
       "Dates                                   \n",
       "2005-05-31                        0.09  \n",
       "2005-06-30                        0.05  \n",
       "2005-07-31                        0.07  \n",
       "2005-08-31                        0.06  \n",
       "2005-09-30                        0.07  "
      ]
     },
     "execution_count": 86,
     "metadata": {},
     "output_type": "execute_result"
    }
   ],
   "source": [
    "# URL of the CSV file on GitHub\n",
    "url = 'https://raw.githubusercontent.com/rraju26/pyIndiaFactorInvesting/main/data/nifty_indices_rets_example.csv'\n",
    "# Local file path\n",
    "file_path = 'data/nifty_indices_rets_example.csv'\n",
    "# Try to read the CSV file from the local directory, fallback to URL if it fails\n",
    "try:\n",
    "    nifty_styles = pd.read_csv(file_path, index_col='Dates', parse_dates=['Dates'])\n",
    "except FileNotFoundError:\n",
    "    nifty_styles = pd.read_csv(url, index_col='Dates', parse_dates=['Dates'])\n",
    "nifty_styles.head().round(2)"
   ]
  },
  {
   "cell_type": "markdown",
   "metadata": {},
   "source": [
    "The returns of these indices are highly correlated."
   ]
  },
  {
   "cell_type": "code",
   "execution_count": 87,
   "metadata": {},
   "outputs": [
    {
     "data": {
      "text/html": [
       "<div>\n",
       "<style scoped>\n",
       "    .dataframe tbody tr th:only-of-type {\n",
       "        vertical-align: middle;\n",
       "    }\n",
       "\n",
       "    .dataframe tbody tr th {\n",
       "        vertical-align: top;\n",
       "    }\n",
       "\n",
       "    .dataframe thead th {\n",
       "        text-align: right;\n",
       "    }\n",
       "</style>\n",
       "<table border=\"1\" class=\"dataframe\">\n",
       "  <thead>\n",
       "    <tr style=\"text-align: right;\">\n",
       "      <th></th>\n",
       "      <th>NIFTY_500</th>\n",
       "      <th>NIFTY_200</th>\n",
       "      <th>NIFTY_SMALLCAP_100</th>\n",
       "      <th>NIFTY500_VALUE_50</th>\n",
       "      <th>NIFTY200_QUALITY_30</th>\n",
       "      <th>NIFTY200_MOMENTUM_30</th>\n",
       "      <th>NIFTY100_LOW_VOLATILITY_30</th>\n",
       "    </tr>\n",
       "  </thead>\n",
       "  <tbody>\n",
       "    <tr>\n",
       "      <th>NIFTY_500</th>\n",
       "      <td>1.00</td>\n",
       "      <td>1.00</td>\n",
       "      <td>0.91</td>\n",
       "      <td>0.89</td>\n",
       "      <td>0.92</td>\n",
       "      <td>0.89</td>\n",
       "      <td>0.93</td>\n",
       "    </tr>\n",
       "    <tr>\n",
       "      <th>NIFTY_200</th>\n",
       "      <td>1.00</td>\n",
       "      <td>1.00</td>\n",
       "      <td>0.89</td>\n",
       "      <td>0.87</td>\n",
       "      <td>0.93</td>\n",
       "      <td>0.89</td>\n",
       "      <td>0.93</td>\n",
       "    </tr>\n",
       "    <tr>\n",
       "      <th>NIFTY_SMALLCAP_100</th>\n",
       "      <td>0.91</td>\n",
       "      <td>0.89</td>\n",
       "      <td>1.00</td>\n",
       "      <td>0.90</td>\n",
       "      <td>0.81</td>\n",
       "      <td>0.79</td>\n",
       "      <td>0.81</td>\n",
       "    </tr>\n",
       "    <tr>\n",
       "      <th>NIFTY500_VALUE_50</th>\n",
       "      <td>0.89</td>\n",
       "      <td>0.87</td>\n",
       "      <td>0.90</td>\n",
       "      <td>1.00</td>\n",
       "      <td>0.75</td>\n",
       "      <td>0.74</td>\n",
       "      <td>0.77</td>\n",
       "    </tr>\n",
       "    <tr>\n",
       "      <th>NIFTY200_QUALITY_30</th>\n",
       "      <td>0.92</td>\n",
       "      <td>0.93</td>\n",
       "      <td>0.81</td>\n",
       "      <td>0.75</td>\n",
       "      <td>1.00</td>\n",
       "      <td>0.86</td>\n",
       "      <td>0.94</td>\n",
       "    </tr>\n",
       "    <tr>\n",
       "      <th>NIFTY200_MOMENTUM_30</th>\n",
       "      <td>0.89</td>\n",
       "      <td>0.89</td>\n",
       "      <td>0.79</td>\n",
       "      <td>0.74</td>\n",
       "      <td>0.86</td>\n",
       "      <td>1.00</td>\n",
       "      <td>0.87</td>\n",
       "    </tr>\n",
       "    <tr>\n",
       "      <th>NIFTY100_LOW_VOLATILITY_30</th>\n",
       "      <td>0.93</td>\n",
       "      <td>0.93</td>\n",
       "      <td>0.81</td>\n",
       "      <td>0.77</td>\n",
       "      <td>0.94</td>\n",
       "      <td>0.87</td>\n",
       "      <td>1.00</td>\n",
       "    </tr>\n",
       "  </tbody>\n",
       "</table>\n",
       "</div>"
      ],
      "text/plain": [
       "                            NIFTY_500  NIFTY_200  NIFTY_SMALLCAP_100  \\\n",
       "NIFTY_500                        1.00       1.00                0.91   \n",
       "NIFTY_200                        1.00       1.00                0.89   \n",
       "NIFTY_SMALLCAP_100               0.91       0.89                1.00   \n",
       "NIFTY500_VALUE_50                0.89       0.87                0.90   \n",
       "NIFTY200_QUALITY_30              0.92       0.93                0.81   \n",
       "NIFTY200_MOMENTUM_30             0.89       0.89                0.79   \n",
       "NIFTY100_LOW_VOLATILITY_30       0.93       0.93                0.81   \n",
       "\n",
       "                            NIFTY500_VALUE_50  NIFTY200_QUALITY_30  \\\n",
       "NIFTY_500                                0.89                 0.92   \n",
       "NIFTY_200                                0.87                 0.93   \n",
       "NIFTY_SMALLCAP_100                       0.90                 0.81   \n",
       "NIFTY500_VALUE_50                        1.00                 0.75   \n",
       "NIFTY200_QUALITY_30                      0.75                 1.00   \n",
       "NIFTY200_MOMENTUM_30                     0.74                 0.86   \n",
       "NIFTY100_LOW_VOLATILITY_30               0.77                 0.94   \n",
       "\n",
       "                            NIFTY200_MOMENTUM_30  NIFTY100_LOW_VOLATILITY_30  \n",
       "NIFTY_500                                   0.89                        0.93  \n",
       "NIFTY_200                                   0.89                        0.93  \n",
       "NIFTY_SMALLCAP_100                          0.79                        0.81  \n",
       "NIFTY500_VALUE_50                           0.74                        0.77  \n",
       "NIFTY200_QUALITY_30                         0.86                        0.94  \n",
       "NIFTY200_MOMENTUM_30                        1.00                        0.87  \n",
       "NIFTY100_LOW_VOLATILITY_30                  0.87                        1.00  "
      ]
     },
     "execution_count": 87,
     "metadata": {},
     "output_type": "execute_result"
    }
   ],
   "source": [
    "nifty_styles=nifty_styles.astype(float)\n",
    "nifty_styles.corr().round(2)"
   ]
  },
  {
   "cell_type": "markdown",
   "metadata": {},
   "source": [
    "## Fetch and Read the example file of Monthly Returns into a DataFrame\n",
    "Read the Fund monthly returns into a pandas DataFrame.\n"
   ]
  },
  {
   "cell_type": "code",
   "execution_count": 88,
   "metadata": {},
   "outputs": [
    {
     "name": "stdout",
     "output_type": "stream",
     "text": [
      "            sample_fund\n",
      "Dates                  \n",
      "2013-01-31     -0.00745\n",
      "2013-02-28     -0.02495\n",
      "2013-03-31      0.01631\n",
      "2013-04-30      0.06336\n",
      "2013-05-31      0.04082\n",
      "2013-06-30     -0.03347\n",
      "2013-07-31      0.00066\n",
      "2013-08-31     -0.04204\n",
      "2013-09-30      0.06615\n",
      "2013-10-31      0.07126\n"
     ]
    }
   ],
   "source": [
    "# URL of the CSV file on GitHub\n",
    "url = 'https://raw.githubusercontent.com/rraju26/pyIndiaFactorInvesting/main/data/fba_sample_data.csv'\n",
    "\n",
    "# Local file path\n",
    "file_path = 'data/fba_sample_data.csv'\n",
    "\n",
    "# Try to read the CSV file from the local directory, fallback to URL if it fails\n",
    "try:\n",
    "    fund_returns = pd.read_csv(file_path, index_col='Dates', parse_dates=['Dates'])/100\n",
    "except FileNotFoundError:\n",
    "    fund_returns = pd.read_csv(url, index_col='Dates', parse_dates=['Dates'])/100\n",
    "\n",
    "print(fund_returns.head(10))"
   ]
  },
  {
   "cell_type": "markdown",
   "metadata": {},
   "source": [
    "## Concatenate Returns with Style Indices\n",
    "\n",
    "### Introduction to Regression with Style Indices\n",
    "\n",
    "In this section, we will demonstrate how an analyst might regress fund returns against style indices to show factor exposure. An example of such a regression model is:\n",
    "\n",
    "$ r_{fund} = \\alpha + \\beta_{mkt} r_{Nifty500} + \\beta_v r_{Nifty500Value50} + \\beta_q r_{Nifty200Quality30} + \\beta_m r_{Nifty200Momentum30} $\n",
    "\n",
    "Here, $ r_{fund} $ represents the returns of the fund, while $ r_{Nifty500} $, $ r_{Nifty500Value50} $, $ r_{Nifty200Quality30} $, and $ r_{Nifty200Momentum30} $ represent the returns of the respective Nifty indices. The coefficients $\\beta_{mkt}$, $\\beta_v$, $\\beta_q$, and $\\beta_m$ measure the exposure of the fund to these indices. \n",
    "\n",
    "**Note:** Unlike CAPM or other asset pricing models, the model does not subtract risk-free rates.\n",
    "\n",
    "Let's start with a basic regression model that is likely to contain errors.\n",
    "\n",
    "\n",
    "\n"
   ]
  },
  {
   "cell_type": "code",
   "execution_count": 89,
   "metadata": {},
   "outputs": [
    {
     "name": "stdout",
     "output_type": "stream",
     "text": [
      "            sample_fund  NIFTY_500  NIFTY_200  NIFTY500_VALUE_50  \\\n",
      "Dates                                                              \n",
      "2013-01-31     -0.00745       0.01       0.01              -0.02   \n",
      "2013-02-28     -0.02495      -0.07      -0.06              -0.16   \n",
      "2013-03-31      0.01631      -0.01      -0.01              -0.04   \n",
      "2013-04-30      0.06336       0.05       0.05               0.09   \n",
      "2013-05-31      0.04082       0.01       0.01              -0.05   \n",
      "...                 ...        ...        ...                ...   \n",
      "2024-01-31      0.06771       0.02       0.01               0.08   \n",
      "2024-02-29      0.03495       0.02       0.02               0.03   \n",
      "2024-03-31      0.01002       0.01       0.01               0.01   \n",
      "2024-04-30      0.07654       0.04       0.03               0.11   \n",
      "2024-05-31     -0.03546       0.01       0.01               0.01   \n",
      "\n",
      "            NIFTY200_QUALITY_30  NIFTY200_MOMENTUM_30  \n",
      "Dates                                                  \n",
      "2013-01-31                 0.00                 -0.02  \n",
      "2013-02-28                -0.04                 -0.03  \n",
      "2013-03-31                 0.01                  0.01  \n",
      "2013-04-30                 0.05                  0.07  \n",
      "2013-05-31                 0.02                  0.02  \n",
      "...                         ...                   ...  \n",
      "2024-01-31                 0.00                  0.06  \n",
      "2024-02-29                 0.01                  0.03  \n",
      "2024-03-31                 0.00                  0.03  \n",
      "2024-04-30                 0.01                  0.06  \n",
      "2024-05-31                 0.04                  0.05  \n",
      "\n",
      "[137 rows x 6 columns]\n"
     ]
    }
   ],
   "source": [
    "# Concatenate excess returns with Fama-French 6 factors dataset\n",
    "fund_df = pd.concat([fund_returns, nifty_styles[['NIFTY_500', 'NIFTY_200', 'NIFTY500_VALUE_50', 'NIFTY200_QUALITY_30', 'NIFTY200_MOMENTUM_30']]], axis=1).dropna()\n",
    "print(fund_df)"
   ]
  },
  {
   "cell_type": "markdown",
   "metadata": {},
   "source": [
    "## Perform Linear Regression and Print Summary\n",
    "We will perform a linear regression analysis using the model and print the regression summary."
   ]
  },
  {
   "cell_type": "code",
   "execution_count": 90,
   "metadata": {},
   "outputs": [
    {
     "name": "stdout",
     "output_type": "stream",
     "text": [
      "                            OLS Regression Results                            \n",
      "==============================================================================\n",
      "Dep. Variable:            sample_fund   R-squared:                       0.900\n",
      "Model:                            OLS   Adj. R-squared:                  0.897\n",
      "Method:                 Least Squares   F-statistic:                     296.5\n",
      "Date:                Sat, 06 Jul 2024   Prob (F-statistic):           6.69e-65\n",
      "Time:                        14:02:23   Log-Likelihood:                 378.67\n",
      "No. Observations:                 137   AIC:                            -747.3\n",
      "Df Residuals:                     132   BIC:                            -732.7\n",
      "Df Model:                           4                                         \n",
      "Covariance Type:            nonrobust                                         \n",
      "========================================================================================\n",
      "                           coef    std err          t      P>|t|      [0.025      0.975]\n",
      "----------------------------------------------------------------------------------------\n",
      "Intercept                0.0029      0.001      2.028      0.045     7.2e-05       0.006\n",
      "NIFTY_500                0.3290      0.092      3.564      0.001       0.146       0.512\n",
      "NIFTY500_VALUE_50       -0.0186      0.036     -0.523      0.602      -0.089       0.052\n",
      "NIFTY200_QUALITY_30      0.1074      0.074      1.443      0.151      -0.040       0.255\n",
      "NIFTY200_MOMENTUM_30     0.5790      0.056     10.333      0.000       0.468       0.690\n",
      "==============================================================================\n",
      "Omnibus:                       21.899   Durbin-Watson:                   2.092\n",
      "Prob(Omnibus):                  0.000   Jarque-Bera (JB):               69.140\n",
      "Skew:                          -0.497   Prob(JB):                     9.69e-16\n",
      "Kurtosis:                       6.335   Cond. No.                         83.1\n",
      "==============================================================================\n",
      "\n",
      "Notes:\n",
      "[1] Standard Errors assume that the covariance matrix of the errors is correctly specified.\n"
     ]
    }
   ],
   "source": [
    "# Perform linear regression using statsmodels\n",
    "regression = smf.ols('sample_fund ~ NIFTY_500 + NIFTY500_VALUE_50 + NIFTY200_QUALITY_30 + NIFTY200_MOMENTUM_30', data=fund_df).fit()\n",
    "\n",
    "# Print the regression summary\n",
    "print(regression.summary())\n"
   ]
  },
  {
   "cell_type": "markdown",
   "metadata": {},
   "source": [
    "## Regression Analysis for the Sample Fund's Returns\n",
    "The regression analysis for the sample fund's returns with an R-squared of 0.900 suggests a robust model fit. It shows that the fund's returns are explained by the market (NIFTY 500) and momentum (NIFTY 200 Momentum 30) indices, which have t-statistics over 3.5 (see other notebooks in this repository for why 3.5). If the analyst concludes that the fund is a momentum low-beta fund based on these results, is she correct?\n",
    "\n",
    "Upon closer examination, a significant issue surfaces. The market beta is surprisingly low at 0.33, suggesting that when the market moves by 1%, the fund will only move by a third. This contradicts the expected higher betas in momentum strategies. This discrepancy indicates that a further look is needed.\n",
    "\n",
    "The diagnostics of residuals in the bottom panel of the results show that the residuals are not normally distributed. Specifically, the Omnibus and Jarque-Bera (JB) tests indicate significant non-normality as their p-values are zero. The Omnibus test checks for skewness and kurtosis in the residuals, while the Jarque-Bera test combines these two aspects to assess the goodness-of-fit of the residuals to a normal distribution. For these tests, values close to 0 indicate normality. P-values for the Omnibus and the JB test statistic above 0.05 suggest that the residuals are normally distributed with 95% confidence."
   ]
  },
  {
   "cell_type": "markdown",
   "metadata": {},
   "source": [
    "## Visualising Residuals\n",
    "We use the histogram of residuals to understand the residuals better and identify any potential issues with our regression model. This plot helps us visualise the residuals' distribution and assess whether they follow a normal distribution. Ideally, residuals should follow a normal distribution centred around zero. However, as seen in the histogram, the residuals show some deviation from normality, suggesting potential issues with the model fit and implying that the analyst's conclusions may not be accurate."
   ]
  },
  {
   "cell_type": "code",
   "execution_count": 91,
   "metadata": {},
   "outputs": [
    {
     "data": {
      "image/png": "[encoded data removed]",
      "text/plain": [
       "<Figure size 1000x600 with 1 Axes>"
      ]
     },
     "metadata": {},
     "output_type": "display_data"
    }
   ],
   "source": [
    "residuals = regression.resid\n",
    "\n",
    "plt.figure(figsize=(10, 6))\n",
    "sns.histplot(residuals, kde=True)\n",
    "plt.xlabel('Residuals')\n",
    "plt.ylabel('Frequency')\n",
    "plt.title('Histogram of Residuals')\n",
    "plt.show()"
   ]
  },
  {
   "cell_type": "markdown",
   "metadata": {},
   "source": [
    "## Multicollinearity and VIF\n",
    "As seen above, the explanatory variables are highly correlated, which affects coefficient accuracy. \n",
    "\n",
    "A further test is the Variance Inflation Factor test. This is a widely used method that calculates a score for each independent variable. A VIF of 1 indicates no multicollinearity, while values greater than 5 (or sometimes 10) suggest potential issues. Higher VIF values imply an independent variable can be largely explained by a linear combination of other independent variables, making its individual coefficient estimate less reliable. Most statistical software packages can calculate VIFs.\n",
    "\n",
    "\n",
    "\n",
    "\n",
    "\n"
   ]
  },
  {
   "cell_type": "code",
   "execution_count": 92,
   "metadata": {},
   "outputs": [
    {
     "name": "stdout",
     "output_type": "stream",
     "text": [
      "                        VIF\n",
      "NIFTY_500             11.82\n",
      "NIFTY500_VALUE_50      4.58\n",
      "NIFTY200_QUALITY_30    5.19\n",
      "NIFTY200_MOMENTUM_30   4.84\n"
     ]
    }
   ],
   "source": [
    "from statsmodels.stats.outliers_influence import variance_inflation_factor\n",
    "\n",
    "# Extract the independent variables from the fitted model\n",
    "X = fund_df[['NIFTY_500', 'NIFTY500_VALUE_50', 'NIFTY200_QUALITY_30', 'NIFTY200_MOMENTUM_30']]\n",
    "#calculate VIF for each explanatory variable\n",
    "vifs = pd.DataFrame([variance_inflation_factor(X.values, i) for i in range(X.shape[1])],\n",
    "                   index=[X.columns], columns=['VIF'])\n",
    "\n",
    "print(vifs.round(2))"
   ]
  },
  {
   "cell_type": "markdown",
   "metadata": {},
   "source": [
    "The VIF values shows clear evidence of multicollinearity for the model. This needs to be addressed. Dropping Nifty 500, the proxy for the market factor, entirely would clearly make the model irrelevant. What about replacing it with Nifty 200?"
   ]
  },
  {
   "cell_type": "code",
   "execution_count": 93,
   "metadata": {},
   "outputs": [
    {
     "name": "stdout",
     "output_type": "stream",
     "text": [
      "                        VIF\n",
      "NIFTY_200             10.05\n",
      "NIFTY500_VALUE_50      4.00\n",
      "NIFTY200_QUALITY_30    5.42\n",
      "NIFTY200_MOMENTUM_30   4.60\n"
     ]
    }
   ],
   "source": [
    "# Extract the independent variables from the fitted model\n",
    "X = fund_df[['NIFTY_200', 'NIFTY500_VALUE_50', 'NIFTY200_QUALITY_30', 'NIFTY200_MOMENTUM_30']]\n",
    "#calculate VIF for each explanatory variable\n",
    "vifs = pd.DataFrame([variance_inflation_factor(X.values, i) for i in range(X.shape[1])],\n",
    "                   index=[X.columns], columns=['VIF'])\n",
    "\n",
    "print(vifs.round(2))"
   ]
  },
  {
   "cell_type": "markdown",
   "metadata": {},
   "source": []
  },
  {
   "cell_type": "markdown",
   "metadata": {},
   "source": [
    "Replacing Nifty 500 with Nifty 200 does not solve the multicollinearity problem satistfactorily, as its VIF is above 10. Most analysis which use indices as proxies for factors should be viewed with caution due to this issue."
   ]
  },
  {
   "cell_type": "markdown",
   "metadata": {},
   "source": [
    "## Advanced Techniques for Addressing Multicollinearity\n",
    "While this notebook focuses on the basics of identifying and understanding multicollinearity in asset pricing models using Indian financial data, several advanced techniques can be employed to address this issue. These include variable selection methods like backward elimination and forward selection, which help systematically choose the most relevant predictors. Principal Component Analysis (PCA) is another powerful tool that transforms correlated predictors into a set of uncorrelated components, thereby reducing dimensionality and multicollinearity. Additionally, regularisation methods such as Ridge and Lasso regression add penalty terms to the regression equation, helping mitigate multicollinearity by shrinking or eliminating some coefficients. While these techniques offer sophisticated solutions to multicollinearity, they are beyond the scope of this beginner's guide. Exploring these methods can provide more robust and refined models but requires a more advanced statistical background."
   ]
  },
  {
   "cell_type": "markdown",
   "metadata": {},
   "source": [
    "## Using an academic Asset Pricing Model (APM)\n",
    "Academic APMs are constructed to avoid the multicollinearity problem, and therefore, are better suited for using regression and other statistical techniques to explain returns.\n",
    "\n",
    "We will use the `IndiaFactorLibrary` to read the Fama-French 6 factors dataset from Invespar \"Data Library: Fama-French Factors, Momentum, and Low-Risk Factors for the Indian Market\" available at https://www.invespar.com/research.\n"
   ]
  },
  {
   "cell_type": "code",
   "execution_count": 94,
   "metadata": {},
   "outputs": [
    {
     "name": "stdout",
     "output_type": "stream",
     "text": [
      "                  MF      SMB5       HML       RMW       CMA       WML  \\\n",
      "Dates                                                                    \n",
      "2004-10-31  0.012168 -0.006080 -0.020792  0.023774 -0.028868  0.027795   \n",
      "2004-11-30  0.094784  0.033578  0.010583  0.045068 -0.016372  0.016852   \n",
      "2004-12-31  0.089490  0.043343  0.043104  0.020992  0.023392 -0.037736   \n",
      "2005-01-31 -0.019222  0.000250 -0.014563  0.019196 -0.010112  0.023761   \n",
      "2005-02-28  0.032679  0.030760  0.047830 -0.013918 -0.008232  0.028335   \n",
      "...              ...       ...       ...       ...       ...       ...   \n",
      "2024-01-31  0.037383  0.048908  0.060960 -0.045838  0.032928  0.071994   \n",
      "2024-02-29  0.014083 -0.030371 -0.012132  0.001622  0.005138  0.011601   \n",
      "2024-03-31 -0.009468 -0.072897  0.002156  0.000868 -0.017741  0.010147   \n",
      "2024-04-30  0.041428  0.072149  0.034824 -0.016815  0.008483  0.030944   \n",
      "2024-05-31  0.005197 -0.048571 -0.014302  0.017060  0.005262  0.010092   \n",
      "\n",
      "                  RF       MKT  \n",
      "Dates                           \n",
      "2004-10-31  0.003877  0.016045  \n",
      "2004-11-30  0.004361  0.099145  \n",
      "2004-12-31  0.004866  0.094356  \n",
      "2005-01-31  0.004032 -0.015190  \n",
      "2005-02-28  0.004195  0.036874  \n",
      "...              ...       ...  \n",
      "2024-01-31  0.005782  0.043165  \n",
      "2024-02-29  0.005838  0.019921  \n",
      "2024-03-31  0.004921 -0.004547  \n",
      "2024-04-30  0.005466  0.046894  \n",
      "2024-05-31  0.005777  0.010974  \n",
      "\n",
      "[236 rows x 8 columns]\n"
     ]
    }
   ],
   "source": [
    "from indiafactorlibrary import IndiaFactorLibrary\n",
    "\n",
    "# Initialize the IndiaFactorLibrary\n",
    "ifl = IndiaFactorLibrary()\n",
    "\n",
    "# Read the Fama-French 6 factors dataset\n",
    "ff6 = ifl.read('ff6')[0]/100\n",
    "print(ff6)"
   ]
  },
  {
   "cell_type": "markdown",
   "metadata": {},
   "source": [
    "## Concatenate Returns with Fama-French 6 Factors Dataset\n",
    "We will concatenate the example fund returns with the Fama-French 6 factors dataset for India.\n",
    "**Note** We are still using raw returns."
   ]
  },
  {
   "cell_type": "code",
   "execution_count": 103,
   "metadata": {},
   "outputs": [
    {
     "name": "stdout",
     "output_type": "stream",
     "text": [
      "            sample_fund        MF      SMB5       HML       RMW       CMA  \\\n",
      "Dates                                                                       \n",
      "2013-01-31     -0.00745  0.007448 -0.031895 -0.042488  0.010954 -0.000078   \n",
      "2013-02-28     -0.02495 -0.075909 -0.038411 -0.081948  0.051298 -0.026902   \n",
      "2013-03-31      0.01631 -0.027063 -0.039798 -0.038876  0.069282 -0.043362   \n",
      "2013-04-30      0.06336  0.034903 -0.005365  0.018054 -0.042462  0.037902   \n",
      "2013-05-31      0.04082  0.000382 -0.003801 -0.106470  0.027881 -0.014588   \n",
      "...                 ...       ...       ...       ...       ...       ...   \n",
      "2024-01-31      0.06771  0.037383  0.048908  0.060960 -0.045838  0.032928   \n",
      "2024-02-29      0.03495  0.014083 -0.030371 -0.012132  0.001622  0.005138   \n",
      "2024-03-31      0.01002 -0.009468 -0.072897  0.002156  0.000868 -0.017741   \n",
      "2024-04-30      0.07654  0.041428  0.072149  0.034824 -0.016815  0.008483   \n",
      "2024-05-31     -0.03546  0.005197 -0.048571 -0.014302  0.017060  0.005262   \n",
      "\n",
      "                 WML  \n",
      "Dates                 \n",
      "2013-01-31 -0.022946  \n",
      "2013-02-28  0.024837  \n",
      "2013-03-31  0.040490  \n",
      "2013-04-30  0.005470  \n",
      "2013-05-31  0.062380  \n",
      "...              ...  \n",
      "2024-01-31  0.071994  \n",
      "2024-02-29  0.011601  \n",
      "2024-03-31  0.010147  \n",
      "2024-04-30  0.030944  \n",
      "2024-05-31  0.010092  \n",
      "\n",
      "[137 rows x 7 columns]\n"
     ]
    }
   ],
   "source": [
    "# Concatenate returns with Fama-French 6 factors dataset\n",
    "fund_df_apm = pd.concat([fund_returns, ff6[['MF', 'SMB5', 'HML', 'RMW', 'CMA', 'WML']]], axis=1).dropna()\n",
    "print(fund_df_apm)"
   ]
  },
  {
   "cell_type": "code",
   "execution_count": 104,
   "metadata": {},
   "outputs": [
    {
     "name": "stdout",
     "output_type": "stream",
     "text": [
      "                            OLS Regression Results                            \n",
      "==============================================================================\n",
      "Dep. Variable:            sample_fund   R-squared:                       0.882\n",
      "Model:                            OLS   Adj. R-squared:                  0.877\n",
      "Method:                 Least Squares   F-statistic:                     162.1\n",
      "Date:                Sat, 06 Jul 2024   Prob (F-statistic):           7.66e-58\n",
      "Time:                        14:06:29   Log-Likelihood:                 367.50\n",
      "No. Observations:                 137   AIC:                            -721.0\n",
      "Df Residuals:                     130   BIC:                            -700.6\n",
      "Df Model:                           6                                         \n",
      "Covariance Type:            nonrobust                                         \n",
      "==============================================================================\n",
      "                 coef    std err          t      P>|t|      [0.025      0.975]\n",
      "------------------------------------------------------------------------------\n",
      "Intercept      0.0080      0.002      5.069      0.000       0.005       0.011\n",
      "MF             1.0248      0.040     25.632      0.000       0.946       1.104\n",
      "SMB5           0.1688      0.047      3.589      0.000       0.076       0.262\n",
      "HML           -0.1181      0.065     -1.812      0.072      -0.247       0.011\n",
      "RMW            0.2379      0.088      2.710      0.008       0.064       0.412\n",
      "CMA            0.1024      0.077      1.334      0.185      -0.049       0.254\n",
      "WML            0.2081      0.041      5.078      0.000       0.127       0.289\n",
      "==============================================================================\n",
      "Omnibus:                        0.063   Durbin-Watson:                   1.983\n",
      "Prob(Omnibus):                  0.969   Jarque-Bera (JB):                0.064\n",
      "Skew:                          -0.044   Prob(JB):                        0.968\n",
      "Kurtosis:                       2.940   Cond. No.                         68.3\n",
      "==============================================================================\n",
      "\n",
      "Notes:\n",
      "[1] Standard Errors assume that the covariance matrix of the errors is correctly specified.\n"
     ]
    }
   ],
   "source": [
    "# Perform linear regression using statsmodels\n",
    "regression = smf.ols('sample_fund ~ MF + SMB5 + HML + RMW + CMA + WML', data=fund_df_apm ).fit()\n",
    "\n",
    "# Print the regression summary\n",
    "print(regression.summary())"
   ]
  },
  {
   "cell_type": "markdown",
   "metadata": {},
   "source": [
    "## Interpreting the Better Model Results (but still with one error)\n",
    "The regression analysis for the sample fund's returns using the corrected model shows improved diagnostics and more reliable results. The R-squared value is 0.882, indicating that 88.2% of the variability in the fund's returns is explained by the model.\n",
    "\n",
    "Examining the coefficients, we find that the intercept is small but statistically significant ($t$-statistic of 5), suggesting a minor outperformance over the academic APM. The market factor (MF) coefficient is 1.02, highly significant with a $t$-statistic of 25.632, reflecting the substantial impact of market movements on the fund's returns. This is more intuitive. The size factor (SMB5) is also significant, with a positive coefficient of 0.17, indicating the fund's exposure to mid/smaller companies. The value factor (HML) is not significant, suggesting that value does not meaningfully impact the fund's returns. The momentum factor (WML) is highly significant with a positive coefficient of 0.28, reflecting the fund's strong exposure to momentum stocks.\n",
    "\n",
    "The residual diagnostics show that the residuals are now normally distributed, as indicated by the Omnibus and Jarque-Bera tests, both with statistics less than 5. This indicates that the residuals are centered around zero with no significant skewness or kurtosis, confirming the model's appropriateness.\n"
   ]
  },
  {
   "cell_type": "code",
   "execution_count": 109,
   "metadata": {},
   "outputs": [
    {
     "name": "stdout",
     "output_type": "stream",
     "text": [
      "       VIF\n",
      "MF    1.71\n",
      "SMB5  1.38\n",
      "HML   3.36\n",
      "RMW   2.35\n",
      "CMA   1.33\n",
      "WML   1.26\n"
     ]
    }
   ],
   "source": [
    "# Extract the independent variables from the fitted model\n",
    "X = fund_df_apm[['MF', 'SMB5', 'HML','RMW','CMA','WML']]\n",
    "#calculate VIF for each explanatory variable\n",
    "vifs = pd.DataFrame([variance_inflation_factor(X.values, i) for i in range(X.shape[1])],\n",
    "                   index=[X.columns], columns=['VIF'])\n",
    "\n",
    "print(vifs.round(2))"
   ]
  },
  {
   "cell_type": "markdown",
   "metadata": {},
   "source": [
    "The VIFs are also well behaved - under 5. Overall, the improved diagnostics and the lack of significant multicollinearity (evidenced by the significance of multiple predictors and the normality of residuals) suggest that this model is robust and reliable. The significant coefficients for market, size, and momentum factors provide meaningful insights into the fund's exposures.\n",
    "\n",
    "Is this therefore done? No, we still have to run the analysis on excess returns rather than raw returns. And that should reduce the intercept term."
   ]
  },
  {
   "cell_type": "markdown",
   "metadata": {},
   "source": [
    "## The Model Corrected for Excess Returns"
   ]
  },
  {
   "cell_type": "markdown",
   "metadata": {},
   "source": [
    "In asset pricing and financial modeling, risk-free rates play an important role in assessing investment performance. The risk-free rate represents the return on an investment with zero risk, such as short-term government bonds. This rate serves as a benchmark to evaluate the additional return, or \"premium,\" that investors expect for taking on risk beyond the risk-free rate. The [Invespar Data Library](http://invespar.com/research) provides monthly risk-free rates calculated from the Reserve Bank of India's weekly auction of 91-day Treasury Bills.\n",
    "\n",
    "Adjusting fund returns by subtracting the risk-free rate helps calculate the \"excess return,\" which is the return attributable to the specific risks of the investment, excluding the return that could have been earned without taking on any risk. For example, if a fund has a return of 8% and the risk-free rate is 3%, the excess return is 5%. This adjustment allows for a more accurate comparison of performance across different investments on a risk-adjusted basis.\n",
    "\n",
    "In models like the Capital Asset Pricing Model (CAPM) and other multifactor models, the risk-free rate is used to determine the expected return on an investment based on its systematic risk (beta). These models aim to quantify the excess return over the risk-free rate attributable to various risk factors.\n",
    "\n",
    "Subtracting the risk-free rate from the strategy's returns allows for the more accurate calculation of outperformance (alpha) and sensitivity to factors (betas) and therefore, in evaluating performance. Alpha represents the strategy's performance beyond what is predicted by its beta, indicating the manager's skill, while beta measures the sensitivity of the strategy's returns to the market. For example, if a fund's beta is 1.2, it is expected to be 20% more volatile than the market.\n",
    "\n",
    "In summary, using risk-free rates and adjusting raw returns accordingly provides a clearer picture of the returns generated by taking on additional risk. It isolates the excess returns attributable to various risk factors, allowing for better comparison and evaluation of investment performance.\n"
   ]
  },
  {
   "cell_type": "code",
   "execution_count": 110,
   "metadata": {},
   "outputs": [
    {
     "name": "stdout",
     "output_type": "stream",
     "text": [
      "Excess Returns:\n",
      "            sample_fund\n",
      "Dates                  \n",
      "2013-01-31    -0.014736\n",
      "2013-02-28    -0.031243\n",
      "2013-03-31     0.010260\n",
      "2013-04-30     0.057185\n",
      "2013-05-31     0.034392\n",
      "2013-06-30    -0.039324\n",
      "2013-07-31    -0.006805\n",
      "2013-08-31    -0.050780\n",
      "2013-09-30     0.057755\n",
      "2013-10-31     0.063811\n"
     ]
    }
   ],
   "source": [
    "# Subtract risk-free rate to get excess returns, and drop NaN values\n",
    "fund_excess = fund_returns.sub(ff6['RF'], axis=0).dropna()\n",
    "print('Excess Returns:')\n",
    "print(fund_excess.head(10))"
   ]
  },
  {
   "cell_type": "code",
   "execution_count": 111,
   "metadata": {},
   "outputs": [
    {
     "name": "stdout",
     "output_type": "stream",
     "text": [
      "                            OLS Regression Results                            \n",
      "==============================================================================\n",
      "Dep. Variable:            sample_fund   R-squared:                       0.885\n",
      "Model:                            OLS   Adj. R-squared:                  0.880\n",
      "Method:                 Least Squares   F-statistic:                     167.1\n",
      "Date:                Sat, 06 Jul 2024   Prob (F-statistic):           1.37e-58\n",
      "Time:                        14:08:28   Log-Likelihood:                 369.11\n",
      "No. Observations:                 137   AIC:                            -724.2\n",
      "Df Residuals:                     130   BIC:                            -703.8\n",
      "Df Model:                           6                                         \n",
      "Covariance Type:            nonrobust                                         \n",
      "==============================================================================\n",
      "                 coef    std err          t      P>|t|      [0.025      0.975]\n",
      "------------------------------------------------------------------------------\n",
      "Intercept      0.0028      0.002      1.795      0.075      -0.000       0.006\n",
      "MF             1.0266      0.040     25.979      0.000       0.948       1.105\n",
      "SMB5           0.1670      0.046      3.594      0.000       0.075       0.259\n",
      "HML           -0.1136      0.064     -1.762      0.080      -0.241       0.014\n",
      "RMW            0.2338      0.087      2.694      0.008       0.062       0.405\n",
      "CMA            0.0995      0.076      1.312      0.192      -0.051       0.250\n",
      "WML            0.2116      0.041      5.223      0.000       0.131       0.292\n",
      "==============================================================================\n",
      "Omnibus:                        0.110   Durbin-Watson:                   2.029\n",
      "Prob(Omnibus):                  0.947   Jarque-Bera (JB):                0.023\n",
      "Skew:                          -0.032   Prob(JB):                        0.989\n",
      "Kurtosis:                       3.003   Cond. No.                         68.3\n",
      "==============================================================================\n",
      "\n",
      "Notes:\n",
      "[1] Standard Errors assume that the covariance matrix of the errors is correctly specified.\n"
     ]
    }
   ],
   "source": [
    "# Concatenate returns with Fama-French 6 factors dataset\n",
    "fund_df_apm1 = pd.concat([fund_excess, ff6[['MF', 'SMB5', 'HML', 'RMW', 'CMA', 'WML']]], axis=1).dropna()\n",
    "# Perform linear regression using statsmodels\n",
    "regression = smf.ols('sample_fund ~ MF + SMB5 + HML + RMW + CMA + WML', data=fund_df_apm1 ).fit()\n",
    "\n",
    "# Print the regression summary\n",
    "print(regression.summary())"
   ]
  },
  {
   "cell_type": "markdown",
   "metadata": {},
   "source": [
    "As the results now show, there is no statistical evidence of outperformance of the example fund over the academic APM."
   ]
  },
  {
   "cell_type": "markdown",
   "metadata": {},
   "source": [
    "## Would using excess returns of Style Indices fix the multicollinearity issue?\n",
    "This is one common question by practitioners. The argument goes, that the model is adjusted as follows:\n",
    "\n",
    "$ r_{fund}-r_f = \\alpha + \\beta_{mkt} (r_{Nifty200}-r_f) + \\beta_v (r_{Nifty500Value50} -r_f) + \\beta_q (r_{Nifty200Qlty30}-r_f) + \\beta_m (r_{Nifty200Mom30}-r_f) $\n",
    "\n",
    "Where, $r_f$ is the risk-free rate. We replace Nifty 500 with Nifty 200, since using the Nifty 200 had shown lower VIFs.\n",
    "\n",
    "This is straight forward."
   ]
  },
  {
   "cell_type": "code",
   "execution_count": 113,
   "metadata": {},
   "outputs": [
    {
     "name": "stdout",
     "output_type": "stream",
     "text": [
      "                            OLS Regression Results                            \n",
      "==============================================================================\n",
      "Dep. Variable:            sample_fund   R-squared:                       0.895\n",
      "Model:                            OLS   Adj. R-squared:                  0.891\n",
      "Method:                 Least Squares   F-statistic:                     280.0\n",
      "Date:                Sat, 06 Jul 2024   Prob (F-statistic):           1.96e-63\n",
      "Time:                        14:09:38   Log-Likelihood:                 374.95\n",
      "No. Observations:                 137   AIC:                            -739.9\n",
      "Df Residuals:                     132   BIC:                            -725.3\n",
      "Df Model:                           4                                         \n",
      "Covariance Type:            nonrobust                                         \n",
      "========================================================================================\n",
      "                           coef    std err          t      P>|t|      [0.025      0.975]\n",
      "----------------------------------------------------------------------------------------\n",
      "Intercept                0.0027      0.001      1.872      0.063      -0.000       0.006\n",
      "NIFTY_200                0.2005      0.089      2.245      0.026       0.024       0.377\n",
      "NIFTY500_VALUE_50        0.0216      0.034      0.633      0.528      -0.046       0.089\n",
      "NIFTY200_QUALITY_30      0.1576      0.078      2.011      0.046       0.003       0.313\n",
      "NIFTY200_MOMENTUM_30     0.6143      0.056     10.959      0.000       0.503       0.725\n",
      "==============================================================================\n",
      "Omnibus:                       23.369   Durbin-Watson:                   2.127\n",
      "Prob(Omnibus):                  0.000   Jarque-Bera (JB):               73.714\n",
      "Skew:                          -0.548   Prob(JB):                     9.85e-17\n",
      "Kurtosis:                       6.423   Cond. No.                         80.5\n",
      "==============================================================================\n",
      "\n",
      "Notes:\n",
      "[1] Standard Errors assume that the covariance matrix of the errors is correctly specified.\n"
     ]
    }
   ],
   "source": [
    "# Concatenate excess returns with style factors dataset\n",
    "fund_df1 = pd.concat([fund_returns, nifty_styles[['NIFTY_500', 'NIFTY_200', 'NIFTY500_VALUE_50', 'NIFTY200_QUALITY_30', 'NIFTY200_MOMENTUM_30']]], axis=1).dropna()\n",
    "\n",
    "# then subtract risk free rates from the FF6 library\n",
    "fund_excess = fund_df1.sub(ff6['RF'], axis=0).dropna(how='all')\n",
    "\n",
    "# Perform linear regression using statsmodels\n",
    "regression = smf.ols('sample_fund ~ NIFTY_200 + NIFTY500_VALUE_50 + NIFTY200_QUALITY_30 + NIFTY200_MOMENTUM_30', data=fund_excess).fit()\n",
    "\n",
    "# Print the regression summary\n",
    "print(regression.summary())\n"
   ]
  },
  {
   "cell_type": "markdown",
   "metadata": {},
   "source": [
    "This regression result has similar characterstcs to the regression using raw returns and Nifty 500. Specifically, our interest is in the values of Omnibus and the JB tests. Both continue to show non-normal residuals distribution, an indication of problems in model specification. \n"
   ]
  },
  {
   "cell_type": "code",
   "execution_count": 114,
   "metadata": {},
   "outputs": [
    {
     "name": "stdout",
     "output_type": "stream",
     "text": [
      "                      NIFTY_200  NIFTY500_VALUE_50  NIFTY200_QUALITY_30  \\\n",
      "NIFTY_200                  1.00               0.83                 0.86   \n",
      "NIFTY500_VALUE_50          0.83               1.00                 0.60   \n",
      "NIFTY200_QUALITY_30        0.86               0.60                 1.00   \n",
      "NIFTY200_MOMENTUM_30       0.85               0.72                 0.81   \n",
      "\n",
      "                      NIFTY200_MOMENTUM_30  \n",
      "NIFTY_200                             0.85  \n",
      "NIFTY500_VALUE_50                     0.72  \n",
      "NIFTY200_QUALITY_30                   0.81  \n",
      "NIFTY200_MOMENTUM_30                  1.00  \n"
     ]
    }
   ],
   "source": [
    "# Extract the independent variables from the fitted model\n",
    "X = fund_excess[['NIFTY_200', 'NIFTY500_VALUE_50', 'NIFTY200_QUALITY_30', 'NIFTY200_MOMENTUM_30']]\n",
    "\n",
    "# print correlation\n",
    "print(X.corr().round(2))"
   ]
  },
  {
   "cell_type": "markdown",
   "metadata": {},
   "source": [
    "The correlations between the excess returns is still moderate to high, an indicator for multicollinearity."
   ]
  },
  {
   "cell_type": "code",
   "execution_count": 115,
   "metadata": {},
   "outputs": [
    {
     "name": "stdout",
     "output_type": "stream",
     "text": [
      "                       VIF\n",
      "NIFTY_200             9.63\n",
      "NIFTY500_VALUE_50     3.92\n",
      "NIFTY200_QUALITY_30   5.15\n",
      "NIFTY200_MOMENTUM_30  4.32\n"
     ]
    }
   ],
   "source": [
    "\n",
    "#calculate VIF for each explanatory variable\n",
    "vifs = pd.DataFrame([variance_inflation_factor(X.values, i) for i in range(X.shape[1])],\n",
    "                   index=[X.columns], columns=['VIF'])\n",
    "\n",
    "print(vifs.round(2))"
   ]
  },
  {
   "cell_type": "markdown",
   "metadata": {},
   "source": [
    "The VIFs are still high, with Nifty 200 close to 10, and the Quality proxy above 5. This shows that the revised model specification still suffers from multicollinearity. Consequently, the coefficients of the regression are likely to be unstable and erroneous."
   ]
  },
  {
   "cell_type": "markdown",
   "metadata": {},
   "source": [
    "## Conclusion\n",
    "In this notebook, we explored the concept of multicollinearity in asset pricing models using Indian financial data. We started by defining multicollinearity and discussing its impact on regression models, particularly in the context of asset pricing and factor models. We then demonstrated how to identify multicollinearity using correlation matrices and variance inflation factors (VIF). We also provided basic methods to mitigate its effects. While we covered essential aspects of multicollinearity, several advanced techniques, such as variable selection methods, Principal Component Analysis (PCA), and regularisation methods like Ridge and Lasso regression, offer more sophisticated solutions.\n",
    "\n",
    "By understanding and addressing multicollinearity, one can improve the reliability of their models, leading to more accurate insights into the relationship between risk factors and asset returns."
   ]
  },
  {
   "cell_type": "markdown",
   "metadata": {},
   "source": [
    "## References\n",
    "1. Gujarati, D. N. (2009). Basic Econometrics (5th ed.). McGraw-Hill Education.\n",
    "2. Fama, E. F., & French, K. R. (1993). Common risk factors in the returns on stocks and bonds. *Journal of Financial Economics, 33*(1), 3-56.\n",
    "3. Raju, R. (2022). Four and Five-Factor Models in the Indian Equities Market. *SSRN eLibrary*, March, 37\n",
    "4. Factor Data sourced from [Invespar Data Library: Data Library: Fama-French Factors, Momentum, and Low-Risk Factors for the Indian Market](http://invespar.com/research)."
   ]
  }
 ],
 "metadata": {
  "kernelspec": {
   "display_name": "Re2024rdp",
   "language": "python",
   "name": "python3"
  },
  "language_info": {
   "codemirror_mode": {
    "name": "ipython",
    "version": 3
   },
   "file_extension": ".py",
   "mimetype": "text/x-python",
   "name": "python",
   "nbconvert_exporter": "python",
   "pygments_lexer": "ipython3",
   "version": "3.9.18"
  }
 },
 "nbformat": 4,
 "nbformat_minor": 2
}
